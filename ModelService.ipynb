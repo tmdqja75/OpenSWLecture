{
 "cells": [
  {
   "cell_type": "markdown",
   "metadata": {},
   "source": [
    "# 모델 배포 준비"
   ]
  },
  {
   "cell_type": "markdown",
   "metadata": {},
   "source": [
    "## Deployment on...\n",
    "- Backend\n",
    "  - 개발한 sw/ml모델등을 사용자가 접속하는 서버에 배포하는 방식\n",
    "- Edge Devicees\n",
    "  - 사용자의 기기 안에 배포하는 방식\n",
    "  - ex) 앱 안에 ml 모델 탑제\n",
    "  - inference time이 짧아야 할때 edge device 탑재 방식 사용\n",
    "  - Model Quantization(최적화 방식)\n",
    "\n",
    "![backedge](./backedge.png)"
   ]
  },
  {
   "cell_type": "markdown",
   "metadata": {},
   "source": [
    "## 사용자와 서버가 통신하는 방법"
   ]
  },
  {
   "cell_type": "markdown",
   "metadata": {},
   "source": [
    "![](./backendapi.png)\n",
    "## REST(Representational State Transfer)\n",
    "- http protocol을 통해 관리되는 구조\n",
    "- http method(POST, GET, PUT, DELETE)통해 서버에 특정 operation 을 요청한 후 응답 받음\n",
    "### RESTful API"
   ]
  },
  {
   "cell_type": "markdown",
   "metadata": {},
   "source": [
    "![](./clientserver.png)"
   ]
  },
  {
   "cell_type": "code",
   "execution_count": 1,
   "metadata": {},
   "outputs": [
    {
     "name": "stdout",
     "output_type": "stream",
     "text": [
      "Collecting flask-ngrok\n",
      "  Downloading flask_ngrok-0.0.25-py3-none-any.whl (3.1 kB)\n",
      "Requirement already satisfied: Flask>=0.8 in /Users/seungbeomha/opt/anaconda3/envs/tensorflow/lib/python3.8/site-packages (from flask-ngrok) (2.2.2)\n",
      "Requirement already satisfied: requests in /Users/seungbeomha/opt/anaconda3/envs/tensorflow/lib/python3.8/site-packages (from flask-ngrok) (2.28.1)\n",
      "Requirement already satisfied: click>=8.0 in /Users/seungbeomha/opt/anaconda3/envs/tensorflow/lib/python3.8/site-packages (from Flask>=0.8->flask-ngrok) (8.1.3)\n",
      "Requirement already satisfied: Werkzeug>=2.2.2 in /Users/seungbeomha/opt/anaconda3/envs/tensorflow/lib/python3.8/site-packages (from Flask>=0.8->flask-ngrok) (2.2.2)\n",
      "Requirement already satisfied: itsdangerous>=2.0 in /Users/seungbeomha/opt/anaconda3/envs/tensorflow/lib/python3.8/site-packages (from Flask>=0.8->flask-ngrok) (2.1.2)\n",
      "Requirement already satisfied: importlib-metadata>=3.6.0 in /Users/seungbeomha/opt/anaconda3/envs/tensorflow/lib/python3.8/site-packages (from Flask>=0.8->flask-ngrok) (4.12.0)\n",
      "Requirement already satisfied: Jinja2>=3.0 in /Users/seungbeomha/opt/anaconda3/envs/tensorflow/lib/python3.8/site-packages (from Flask>=0.8->flask-ngrok) (3.1.2)\n",
      "Requirement already satisfied: charset-normalizer<3,>=2 in /Users/seungbeomha/opt/anaconda3/envs/tensorflow/lib/python3.8/site-packages (from requests->flask-ngrok) (2.1.0)\n",
      "Requirement already satisfied: urllib3<1.27,>=1.21.1 in /Users/seungbeomha/opt/anaconda3/envs/tensorflow/lib/python3.8/site-packages (from requests->flask-ngrok) (1.26.11)\n",
      "Requirement already satisfied: idna<4,>=2.5 in /Users/seungbeomha/opt/anaconda3/envs/tensorflow/lib/python3.8/site-packages (from requests->flask-ngrok) (3.3)\n",
      "Requirement already satisfied: certifi>=2017.4.17 in /Users/seungbeomha/opt/anaconda3/envs/tensorflow/lib/python3.8/site-packages (from requests->flask-ngrok) (2022.6.15)\n",
      "Requirement already satisfied: zipp>=0.5 in /Users/seungbeomha/opt/anaconda3/envs/tensorflow/lib/python3.8/site-packages (from importlib-metadata>=3.6.0->Flask>=0.8->flask-ngrok) (3.8.1)\n",
      "Requirement already satisfied: MarkupSafe>=2.0 in /Users/seungbeomha/opt/anaconda3/envs/tensorflow/lib/python3.8/site-packages (from Jinja2>=3.0->Flask>=0.8->flask-ngrok) (2.1.1)\n",
      "Installing collected packages: flask-ngrok\n",
      "Successfully installed flask-ngrok-0.0.25\n"
     ]
    }
   ],
   "source": [
    "!pip install flask-ngrok"
   ]
  },
  {
   "cell_type": "code",
   "execution_count": 1,
   "metadata": {},
   "outputs": [
    {
     "name": "stdout",
     "output_type": "stream",
     "text": [
      " * Serving Flask app '__main__'\n",
      " * Debug mode: on\n"
     ]
    },
    {
     "name": "stderr",
     "output_type": "stream",
     "text": [
      "\u001b[31m\u001b[1mWARNING: This is a development server. Do not use it in a production deployment. Use a production WSGI server instead.\u001b[0m\n",
      " * Running on http://127.0.0.1:5000\n",
      "\u001b[33mPress CTRL+C to quit\u001b[0m\n",
      " * Restarting with stat\n",
      "Traceback (most recent call last):\n",
      "  File \"/Users/seungbeomha/opt/anaconda3/envs/tensorflow/lib/python3.8/site-packages/ipykernel_launcher.py\", line 16, in <module>\n",
      "    app.launch_new_instance()\n",
      "  File \"/Users/seungbeomha/opt/anaconda3/envs/tensorflow/lib/python3.8/site-packages/traitlets/config/application.py\", line 845, in launch_instance\n",
      "    app.initialize(argv)\n",
      "  File \"/Users/seungbeomha/opt/anaconda3/envs/tensorflow/lib/python3.8/site-packages/traitlets/config/application.py\", line 88, in inner\n",
      "    return method(app, *args, **kwargs)\n",
      "  File \"/Users/seungbeomha/opt/anaconda3/envs/tensorflow/lib/python3.8/site-packages/ipykernel/kernelapp.py\", line 632, in initialize\n",
      "    self.init_sockets()\n",
      "  File \"/Users/seungbeomha/opt/anaconda3/envs/tensorflow/lib/python3.8/site-packages/ipykernel/kernelapp.py\", line 282, in init_sockets\n",
      "    self.shell_port = self._bind_socket(self.shell_socket, self.shell_port)\n",
      "  File \"/Users/seungbeomha/opt/anaconda3/envs/tensorflow/lib/python3.8/site-packages/ipykernel/kernelapp.py\", line 229, in _bind_socket\n",
      "    return self._try_bind_socket(s, port)\n",
      "  File \"/Users/seungbeomha/opt/anaconda3/envs/tensorflow/lib/python3.8/site-packages/ipykernel/kernelapp.py\", line 205, in _try_bind_socket\n",
      "    s.bind(\"tcp://%s:%i\" % (self.ip, port))\n",
      "  File \"/Users/seungbeomha/opt/anaconda3/envs/tensorflow/lib/python3.8/site-packages/zmq/sugar/socket.py\", line 229, in bind\n",
      "    super().bind(addr)\n",
      "  File \"zmq/backend/cython/socket.pyx\", line 562, in zmq.backend.cython.socket.Socket.bind\n",
      "  File \"zmq/backend/cython/checkrc.pxd\", line 28, in zmq.backend.cython.checkrc._check_rc\n",
      "zmq.error.ZMQError: Address already in use\n"
     ]
    },
    {
     "ename": "SystemExit",
     "evalue": "1",
     "output_type": "error",
     "traceback": [
      "An exception has occurred, use %tb to see the full traceback.\n",
      "\u001b[0;31mSystemExit\u001b[0m\u001b[0;31m:\u001b[0m 1\n"
     ]
    },
    {
     "name": "stderr",
     "output_type": "stream",
     "text": [
      "/Users/seungbeomha/opt/anaconda3/envs/tensorflow/lib/python3.8/site-packages/IPython/core/interactiveshell.py:3406: UserWarning: To exit: use 'exit', 'quit', or Ctrl-D.\n",
      "  warn(\"To exit: use 'exit', 'quit', or Ctrl-D.\", stacklevel=1)\n"
     ]
    }
   ],
   "source": [
    "from flask import Flask\n",
    "app = Flask(__name__)\n",
    "\n",
    "@app.route('/')\n",
    "def home():\n",
    "    return \"<h1>This is your Flask Server.<h1>\"\n",
    "\n",
    "@app.route('/predict')\n",
    "def predict():\n",
    "    message=''\n",
    "    message += '<h1>House Price</h1>'\n",
    "    message += 'This page will be your prediction form'\n",
    "    \n",
    "    return message\n",
    "app.run(port=5000, debug=True)"
   ]
  },
  {
   "cell_type": "code",
   "execution_count": null,
   "metadata": {},
   "outputs": [],
   "source": []
  }
 ],
 "metadata": {
  "kernelspec": {
   "display_name": "Python 3.8.13 ('tensorflow')",
   "language": "python",
   "name": "python3"
  },
  "language_info": {
   "codemirror_mode": {
    "name": "ipython",
    "version": 3
   },
   "file_extension": ".py",
   "mimetype": "text/x-python",
   "name": "python",
   "nbconvert_exporter": "python",
   "pygments_lexer": "ipython3",
   "version": "3.8.13"
  },
  "orig_nbformat": 4,
  "vscode": {
   "interpreter": {
    "hash": "9400bbe200c8e624f56f66a37f21a3b68cf3bdb9802aac43d4dd04786b58f6bc"
   }
  }
 },
 "nbformat": 4,
 "nbformat_minor": 2
}
