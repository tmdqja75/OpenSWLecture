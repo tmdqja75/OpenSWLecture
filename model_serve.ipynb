{
 "cells": [
  {
   "cell_type": "code",
   "execution_count": 38,
   "metadata": {},
   "outputs": [],
   "source": [
    "import numpy as np\n",
    "import pandas as pd\n",
    "import joblib\n",
    "\n",
    "import tensorflow as tf\n",
    "from tensorflow import keras\n",
    "from tensorflow.keras import layers\n",
    "\n",
    "from sklearn.preprocessing import MinMaxScaler"
   ]
  },
  {
   "cell_type": "code",
   "execution_count": 2,
   "metadata": {},
   "outputs": [],
   "source": [
    "X = pd.read_csv('X.csv')\n",
    "\n",
    "with open('y.npy', 'rb') as f:\n",
    "    y = np.load(f)\n",
    "f.close()"
   ]
  },
  {
   "cell_type": "code",
   "execution_count": 4,
   "metadata": {},
   "outputs": [
    {
     "data": {
      "text/html": [
       "<div>\n",
       "<style scoped>\n",
       "    .dataframe tbody tr th:only-of-type {\n",
       "        vertical-align: middle;\n",
       "    }\n",
       "\n",
       "    .dataframe tbody tr th {\n",
       "        vertical-align: top;\n",
       "    }\n",
       "\n",
       "    .dataframe thead th {\n",
       "        text-align: right;\n",
       "    }\n",
       "</style>\n",
       "<table border=\"1\" class=\"dataframe\">\n",
       "  <thead>\n",
       "    <tr style=\"text-align: right;\">\n",
       "      <th></th>\n",
       "      <th>OverallQual</th>\n",
       "      <th>GrLivArea</th>\n",
       "      <th>GarageCars</th>\n",
       "      <th>GarageArea</th>\n",
       "      <th>TotalBsmtSF</th>\n",
       "      <th>1stFlrSF</th>\n",
       "      <th>FullBath</th>\n",
       "      <th>LotShape_rank</th>\n",
       "    </tr>\n",
       "  </thead>\n",
       "  <tbody>\n",
       "    <tr>\n",
       "      <th>0</th>\n",
       "      <td>7</td>\n",
       "      <td>1710</td>\n",
       "      <td>2</td>\n",
       "      <td>548</td>\n",
       "      <td>856</td>\n",
       "      <td>856</td>\n",
       "      <td>2</td>\n",
       "      <td>1</td>\n",
       "    </tr>\n",
       "    <tr>\n",
       "      <th>1</th>\n",
       "      <td>6</td>\n",
       "      <td>1262</td>\n",
       "      <td>2</td>\n",
       "      <td>460</td>\n",
       "      <td>1262</td>\n",
       "      <td>1262</td>\n",
       "      <td>2</td>\n",
       "      <td>1</td>\n",
       "    </tr>\n",
       "    <tr>\n",
       "      <th>2</th>\n",
       "      <td>7</td>\n",
       "      <td>1786</td>\n",
       "      <td>2</td>\n",
       "      <td>608</td>\n",
       "      <td>920</td>\n",
       "      <td>920</td>\n",
       "      <td>2</td>\n",
       "      <td>2</td>\n",
       "    </tr>\n",
       "    <tr>\n",
       "      <th>3</th>\n",
       "      <td>7</td>\n",
       "      <td>1717</td>\n",
       "      <td>3</td>\n",
       "      <td>642</td>\n",
       "      <td>756</td>\n",
       "      <td>961</td>\n",
       "      <td>1</td>\n",
       "      <td>2</td>\n",
       "    </tr>\n",
       "    <tr>\n",
       "      <th>4</th>\n",
       "      <td>8</td>\n",
       "      <td>2198</td>\n",
       "      <td>3</td>\n",
       "      <td>836</td>\n",
       "      <td>1145</td>\n",
       "      <td>1145</td>\n",
       "      <td>2</td>\n",
       "      <td>2</td>\n",
       "    </tr>\n",
       "    <tr>\n",
       "      <th>...</th>\n",
       "      <td>...</td>\n",
       "      <td>...</td>\n",
       "      <td>...</td>\n",
       "      <td>...</td>\n",
       "      <td>...</td>\n",
       "      <td>...</td>\n",
       "      <td>...</td>\n",
       "      <td>...</td>\n",
       "    </tr>\n",
       "    <tr>\n",
       "      <th>1455</th>\n",
       "      <td>6</td>\n",
       "      <td>1647</td>\n",
       "      <td>2</td>\n",
       "      <td>460</td>\n",
       "      <td>953</td>\n",
       "      <td>953</td>\n",
       "      <td>2</td>\n",
       "      <td>1</td>\n",
       "    </tr>\n",
       "    <tr>\n",
       "      <th>1456</th>\n",
       "      <td>6</td>\n",
       "      <td>2073</td>\n",
       "      <td>2</td>\n",
       "      <td>500</td>\n",
       "      <td>1542</td>\n",
       "      <td>2073</td>\n",
       "      <td>2</td>\n",
       "      <td>1</td>\n",
       "    </tr>\n",
       "    <tr>\n",
       "      <th>1457</th>\n",
       "      <td>7</td>\n",
       "      <td>2340</td>\n",
       "      <td>1</td>\n",
       "      <td>252</td>\n",
       "      <td>1152</td>\n",
       "      <td>1188</td>\n",
       "      <td>2</td>\n",
       "      <td>1</td>\n",
       "    </tr>\n",
       "    <tr>\n",
       "      <th>1458</th>\n",
       "      <td>5</td>\n",
       "      <td>1078</td>\n",
       "      <td>1</td>\n",
       "      <td>240</td>\n",
       "      <td>1078</td>\n",
       "      <td>1078</td>\n",
       "      <td>1</td>\n",
       "      <td>1</td>\n",
       "    </tr>\n",
       "    <tr>\n",
       "      <th>1459</th>\n",
       "      <td>5</td>\n",
       "      <td>1256</td>\n",
       "      <td>1</td>\n",
       "      <td>276</td>\n",
       "      <td>1256</td>\n",
       "      <td>1256</td>\n",
       "      <td>1</td>\n",
       "      <td>1</td>\n",
       "    </tr>\n",
       "  </tbody>\n",
       "</table>\n",
       "<p>1460 rows × 8 columns</p>\n",
       "</div>"
      ],
      "text/plain": [
       "      OverallQual  GrLivArea  GarageCars  GarageArea  TotalBsmtSF  1stFlrSF  \\\n",
       "0               7       1710           2         548          856       856   \n",
       "1               6       1262           2         460         1262      1262   \n",
       "2               7       1786           2         608          920       920   \n",
       "3               7       1717           3         642          756       961   \n",
       "4               8       2198           3         836         1145      1145   \n",
       "...           ...        ...         ...         ...          ...       ...   \n",
       "1455            6       1647           2         460          953       953   \n",
       "1456            6       2073           2         500         1542      2073   \n",
       "1457            7       2340           1         252         1152      1188   \n",
       "1458            5       1078           1         240         1078      1078   \n",
       "1459            5       1256           1         276         1256      1256   \n",
       "\n",
       "      FullBath  LotShape_rank  \n",
       "0            2              1  \n",
       "1            2              1  \n",
       "2            2              2  \n",
       "3            1              2  \n",
       "4            2              2  \n",
       "...        ...            ...  \n",
       "1455         2              1  \n",
       "1456         2              1  \n",
       "1457         2              1  \n",
       "1458         1              1  \n",
       "1459         1              1  \n",
       "\n",
       "[1460 rows x 8 columns]"
      ]
     },
     "execution_count": 4,
     "metadata": {},
     "output_type": "execute_result"
    }
   ],
   "source": [
    "X = X[['OverallQual', \n",
    "       'GrLivArea',\n",
    "       'GarageCars',\n",
    "       'GarageArea',\n",
    "       'TotalBsmtSF',\n",
    "       '1stFlrSF',\n",
    "       'FullBath',\n",
    "       'LotShape_rank']]\n",
    "X"
   ]
  },
  {
   "cell_type": "code",
   "execution_count": 5,
   "metadata": {},
   "outputs": [
    {
     "data": {
      "text/plain": [
       "(1460, 8)"
      ]
     },
     "execution_count": 5,
     "metadata": {},
     "output_type": "execute_result"
    }
   ],
   "source": [
    "X.shape"
   ]
  },
  {
   "cell_type": "code",
   "execution_count": 7,
   "metadata": {},
   "outputs": [],
   "source": [
    "x_min_max_scaler = MinMaxScaler()\n",
    "x_min_max_scaler.fit(X)\n",
    "scaled_X = x_min_max_scaler.transform(X)\n",
    "\n",
    "y =  y.reshape(-1, 1)\n",
    "y_min_max_scaler = MinMaxScaler()\n",
    "y_min_max_scaler.fit(y)\n",
    "scaled_y = y_min_max_scaler.transform(y)"
   ]
  },
  {
   "cell_type": "code",
   "execution_count": 11,
   "metadata": {},
   "outputs": [
    {
     "data": {
      "text/plain": [
       "((1460, 8), (1460, 1))"
      ]
     },
     "execution_count": 11,
     "metadata": {},
     "output_type": "execute_result"
    }
   ],
   "source": [
    "scaled_X.shape, scaled_y.shape"
   ]
  },
  {
   "cell_type": "code",
   "execution_count": 13,
   "metadata": {},
   "outputs": [
    {
     "name": "stdout",
     "output_type": "stream",
     "text": [
      "Epoch 1/150\n"
     ]
    },
    {
     "name": "stderr",
     "output_type": "stream",
     "text": [
      "2022-08-21 17:41:11.262245: W tensorflow/core/platform/profile_utils/cpu_utils.cc:128] Failed to get CPU frequency: 0 Hz\n",
      "2022-08-21 17:41:11.463524: I tensorflow/core/grappler/optimizers/custom_graph_optimizer_registry.cc:113] Plugin optimizer for device_type GPU is enabled.\n"
     ]
    },
    {
     "name": "stdout",
     "output_type": "stream",
     "text": [
      "694/694 [==============================] - 6s 7ms/step - loss: 0.0054 - val_loss: 0.0023\n",
      "Epoch 2/150\n",
      " 12/694 [..............................] - ETA: 3s - loss: 0.0037"
     ]
    },
    {
     "name": "stderr",
     "output_type": "stream",
     "text": [
      "2022-08-21 17:41:16.814581: I tensorflow/core/grappler/optimizers/custom_graph_optimizer_registry.cc:113] Plugin optimizer for device_type GPU is enabled.\n"
     ]
    },
    {
     "name": "stdout",
     "output_type": "stream",
     "text": [
      "694/694 [==============================] - 4s 5ms/step - loss: 0.0032 - val_loss: 0.0016\n",
      "Epoch 3/150\n",
      "694/694 [==============================] - 3s 5ms/step - loss: 0.0032 - val_loss: 0.0050\n",
      "Epoch 4/150\n",
      "694/694 [==============================] - 4s 5ms/step - loss: 0.0031 - val_loss: 0.0050\n",
      "Epoch 5/150\n",
      "694/694 [==============================] - 3s 5ms/step - loss: 0.0028 - val_loss: 0.0022\n",
      "Epoch 6/150\n",
      "694/694 [==============================] - 4s 5ms/step - loss: 0.0026 - val_loss: 0.0021\n",
      "Epoch 7/150\n",
      "694/694 [==============================] - 4s 6ms/step - loss: 0.0028 - val_loss: 0.0013\n",
      "Epoch 8/150\n",
      "694/694 [==============================] - 4s 5ms/step - loss: 0.0026 - val_loss: 0.0013\n",
      "Epoch 9/150\n",
      "694/694 [==============================] - 4s 5ms/step - loss: 0.0023 - val_loss: 0.0013\n",
      "Epoch 10/150\n",
      "694/694 [==============================] - 4s 5ms/step - loss: 0.0023 - val_loss: 0.0013\n",
      "Epoch 11/150\n",
      "694/694 [==============================] - 4s 5ms/step - loss: 0.0025 - val_loss: 0.0013\n",
      "Epoch 12/150\n",
      "694/694 [==============================] - 4s 6ms/step - loss: 0.0026 - val_loss: 0.0021\n",
      "Epoch 13/150\n",
      "694/694 [==============================] - 4s 6ms/step - loss: 0.0023 - val_loss: 0.0017\n",
      "Epoch 14/150\n",
      "694/694 [==============================] - 3s 5ms/step - loss: 0.0023 - val_loss: 0.0019\n",
      "Epoch 15/150\n",
      "694/694 [==============================] - 3s 5ms/step - loss: 0.0022 - val_loss: 0.0015\n",
      "Epoch 16/150\n",
      "694/694 [==============================] - 3s 5ms/step - loss: 0.0022 - val_loss: 0.0015\n",
      "Epoch 17/150\n",
      "694/694 [==============================] - 3s 5ms/step - loss: 0.0025 - val_loss: 0.0013\n",
      "Epoch 18/150\n",
      "694/694 [==============================] - 3s 5ms/step - loss: 0.0023 - val_loss: 0.0042\n",
      "Epoch 19/150\n",
      "694/694 [==============================] - 4s 5ms/step - loss: 0.0024 - val_loss: 0.0011\n",
      "Epoch 20/150\n",
      "694/694 [==============================] - 4s 5ms/step - loss: 0.0021 - val_loss: 0.0012\n",
      "Epoch 21/150\n",
      "694/694 [==============================] - 4s 5ms/step - loss: 0.0021 - val_loss: 0.0026\n",
      "Epoch 22/150\n",
      "694/694 [==============================] - 4s 5ms/step - loss: 0.0023 - val_loss: 0.0020\n",
      "Epoch 23/150\n",
      "694/694 [==============================] - 3s 5ms/step - loss: 0.0021 - val_loss: 0.0032\n",
      "Epoch 24/150\n",
      "694/694 [==============================] - 4s 5ms/step - loss: 0.0023 - val_loss: 0.0015\n",
      "Epoch 25/150\n",
      "694/694 [==============================] - 4s 5ms/step - loss: 0.0021 - val_loss: 0.0012\n",
      "Epoch 26/150\n",
      "694/694 [==============================] - 3s 5ms/step - loss: 0.0020 - val_loss: 0.0012\n",
      "Epoch 27/150\n",
      "694/694 [==============================] - 3s 5ms/step - loss: 0.0020 - val_loss: 0.0014\n",
      "Epoch 28/150\n",
      "694/694 [==============================] - 3s 5ms/step - loss: 0.0022 - val_loss: 0.0040\n",
      "Epoch 29/150\n",
      "694/694 [==============================] - 3s 5ms/step - loss: 0.0022 - val_loss: 0.0013\n",
      "Epoch 30/150\n",
      "694/694 [==============================] - 3s 5ms/step - loss: 0.0021 - val_loss: 0.0012\n",
      "Epoch 31/150\n",
      "694/694 [==============================] - 3s 5ms/step - loss: 0.0021 - val_loss: 0.0037\n",
      "Epoch 32/150\n",
      "694/694 [==============================] - 3s 5ms/step - loss: 0.0021 - val_loss: 0.0012\n",
      "Epoch 33/150\n",
      "694/694 [==============================] - 3s 5ms/step - loss: 0.0021 - val_loss: 0.0012\n",
      "Epoch 34/150\n",
      "694/694 [==============================] - 3s 5ms/step - loss: 0.0019 - val_loss: 0.0012\n"
     ]
    },
    {
     "data": {
      "text/plain": [
       "<keras.callbacks.History at 0x2c807c5b0>"
      ]
     },
     "execution_count": 13,
     "metadata": {},
     "output_type": "execute_result"
    }
   ],
   "source": [
    "# Training\n",
    "from gc import callbacks\n",
    "from pickletools import optimize\n",
    "\n",
    "\n",
    "model = keras.Sequential(\n",
    "    [\n",
    "        keras.Input(shape=scaled_X.shape[-1]),\n",
    "        layers.Dense(96, activation='relu'),\n",
    "        layers.Dense(48, activation='relu'),\n",
    "        layers.Dense(1)\n",
    "    ]\n",
    ")\n",
    "\n",
    "model.compile(loss='mse', optimizer='adam')\n",
    "\n",
    "early_stopping_callback = tf.keras.callbacks.EarlyStopping(monitor='val_loss', patience=15)\n",
    "\n",
    "model.fit(scaled_X, scaled_y,\n",
    "          batch_size=2, epochs=150,\n",
    "          callbacks=[early_stopping_callback],\n",
    "          validation_split=0.05)"
   ]
  },
  {
   "cell_type": "code",
   "execution_count": 15,
   "metadata": {},
   "outputs": [
    {
     "name": "stdout",
     "output_type": "stream",
     "text": [
      "1/1 [==============================] - 0s 178ms/step\n"
     ]
    },
    {
     "name": "stderr",
     "output_type": "stream",
     "text": [
      "2022-08-21 17:48:39.520793: I tensorflow/core/grappler/optimizers/custom_graph_optimizer_registry.cc:113] Plugin optimizer for device_type GPU is enabled.\n"
     ]
    }
   ],
   "source": [
    "pred = model.predict(scaled_X[:5])\n",
    "pred = y_min_max_scaler.inverse_transform(pred)"
   ]
  },
  {
   "cell_type": "code",
   "execution_count": 16,
   "metadata": {},
   "outputs": [
    {
     "data": {
      "text/plain": [
       "array([[189676.16],\n",
       "       [164333.66],\n",
       "       [216422.73],\n",
       "       [204116.88],\n",
       "       [292569.38]], dtype=float32)"
      ]
     },
     "execution_count": 16,
     "metadata": {},
     "output_type": "execute_result"
    }
   ],
   "source": [
    "pred"
   ]
  },
  {
   "cell_type": "code",
   "execution_count": 17,
   "metadata": {},
   "outputs": [
    {
     "data": {
      "text/plain": [
       "array([[208500],\n",
       "       [181500],\n",
       "       [223500],\n",
       "       [140000],\n",
       "       [250000]])"
      ]
     },
     "execution_count": 17,
     "metadata": {},
     "output_type": "execute_result"
    }
   ],
   "source": [
    "y[:5]"
   ]
  },
  {
   "cell_type": "code",
   "execution_count": 25,
   "metadata": {},
   "outputs": [
    {
     "name": "stdout",
     "output_type": "stream",
     "text": [
      "INFO:tensorflow:Assets written to: ./tmp/model/assets\n"
     ]
    }
   ],
   "source": [
    "model.save('./tmp/model')"
   ]
  },
  {
   "cell_type": "code",
   "execution_count": 40,
   "metadata": {},
   "outputs": [],
   "source": [
    "loaded_model = tf.keras.models.load_model('./tmp/model')"
   ]
  },
  {
   "cell_type": "code",
   "execution_count": 41,
   "metadata": {},
   "outputs": [
    {
     "name": "stdout",
     "output_type": "stream",
     "text": [
      "1/1 [==============================] - 0s 38ms/step\n"
     ]
    },
    {
     "name": "stderr",
     "output_type": "stream",
     "text": [
      "2022-08-21 18:06:20.676705: I tensorflow/core/grappler/optimizers/custom_graph_optimizer_registry.cc:113] Plugin optimizer for device_type GPU is enabled.\n"
     ]
    }
   ],
   "source": [
    "pred = loaded_model.predict(scaled_X[:5])\n",
    "pred = y_min_max_scaler.inverse_transform(pred)"
   ]
  },
  {
   "cell_type": "code",
   "execution_count": 42,
   "metadata": {},
   "outputs": [
    {
     "data": {
      "text/plain": [
       "array([[189676.16],\n",
       "       [164333.66],\n",
       "       [216422.73],\n",
       "       [204116.88],\n",
       "       [292569.38]], dtype=float32)"
      ]
     },
     "execution_count": 42,
     "metadata": {},
     "output_type": "execute_result"
    }
   ],
   "source": [
    "pred"
   ]
  },
  {
   "cell_type": "code",
   "execution_count": 44,
   "metadata": {},
   "outputs": [
    {
     "data": {
      "text/plain": [
       "['./tmp/y_min_max_scaler.save']"
      ]
     },
     "execution_count": 44,
     "metadata": {},
     "output_type": "execute_result"
    }
   ],
   "source": [
    "joblib.dump(x_min_max_scaler, './tmp/x_min_max_scaler.save')\n",
    "joblib.dump(y_min_max_scaler, './tmp/y_min_max_scaler.save')"
   ]
  },
  {
   "cell_type": "code",
   "execution_count": null,
   "metadata": {},
   "outputs": [],
   "source": []
  }
 ],
 "metadata": {
  "kernelspec": {
   "display_name": "Python 3.8.13 ('tensorflow')",
   "language": "python",
   "name": "python3"
  },
  "language_info": {
   "codemirror_mode": {
    "name": "ipython",
    "version": 3
   },
   "file_extension": ".py",
   "mimetype": "text/x-python",
   "name": "python",
   "nbconvert_exporter": "python",
   "pygments_lexer": "ipython3",
   "version": "3.8.13"
  },
  "orig_nbformat": 4,
  "vscode": {
   "interpreter": {
    "hash": "9400bbe200c8e624f56f66a37f21a3b68cf3bdb9802aac43d4dd04786b58f6bc"
   }
  }
 },
 "nbformat": 4,
 "nbformat_minor": 2
}
